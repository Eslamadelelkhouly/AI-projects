{
 "cells": [
  {
   "cell_type": "markdown",
   "metadata": {},
   "source": [
    "# Introduction to Python Programming, Gowrishankar & Veena (2018)"
   ]
  },
  {
   "cell_type": "markdown",
   "metadata": {},
   "source": [
    "## Chapter(4) Programming Exercises - Functions"
   ]
  },
  {
   "cell_type": "markdown",
   "metadata": {},
   "source": [
    "### 9. Write a program using functions to perform the arithmetic operations."
   ]
  },
  {
   "cell_type": "code",
   "execution_count": 4,
   "metadata": {},
   "outputs": [
    {
     "name": "stdout",
     "output_type": "stream",
     "text": [
      "8\n",
      "2\n",
      "15\n",
      "None\n"
     ]
    }
   ],
   "source": [
    "def add(num1,num2):\n",
    "    result =  num1+num2\n",
    "    return result\n",
    "\n",
    "def subtract(num1,num2):\n",
    "    result = num1 - num2\n",
    "    return result\n",
    "\n",
    "def multiply(num1,num2):\n",
    "    result = num1 * num2\n",
    "    return result\n",
    "\n",
    "\n",
    "def divide(num1,num2):\n",
    "    result = num1 / num2\n",
    "\n",
    "print(add(5,3))\n",
    "print(subtract(5,3))\n",
    "print(multiply(5,3))\n",
    "print(divide(5,3))"
   ]
  },
  {
   "cell_type": "markdown",
   "metadata": {},
   "source": [
    "### 10. Write a program to find the largest of three numbers using functions."
   ]
  },
  {
   "cell_type": "code",
   "execution_count": 10,
   "metadata": {},
   "outputs": [
    {
     "data": {
      "text/plain": [
       "40"
      ]
     },
     "execution_count": 10,
     "metadata": {},
     "output_type": "execute_result"
    }
   ],
   "source": [
    "def large(num1,num2,num3):\n",
    "    return max(num1,num2,num3)\n",
    "large(30,40,10)"
   ]
  },
  {
   "cell_type": "markdown",
   "metadata": {},
   "source": [
    "### 11. Write a Python program using functions to find the value of nPr and nCr"
   ]
  },
  {
   "cell_type": "code",
   "execution_count": 55,
   "metadata": {},
   "outputs": [
    {
     "name": "stdout",
     "output_type": "stream",
     "text": [
      "24.0\n",
      "4.0\n"
     ]
    }
   ],
   "source": [
    "def fac(num):\n",
    "    mult = 1\n",
    "    for i in range(0,num+1):\n",
    "        if i == 0:\n",
    "            mult = 1\n",
    "        else:\n",
    "            mult = mult * i\n",
    "    return mult\n",
    "num = 4\n",
    "r  = 3\n",
    "diff = num - 4\n",
    "facnum = fac(num)\n",
    "facdiff = fac(diff)\n",
    "result = float (facnum) / float (facdiff)\n",
    "facr = fac(r)\n",
    "result2 = float (facnum) / float (facdiff * facr)\n",
    "print(result)\n",
    "print(result2)\n"
   ]
  },
  {
   "cell_type": "markdown",
   "metadata": {},
   "source": [
    "### 12. Write a Python function named area that finds the area of a pentagon."
   ]
  },
  {
   "cell_type": "code",
   "execution_count": 87,
   "metadata": {},
   "outputs": [
    {
     "name": "stdout",
     "output_type": "stream",
     "text": [
      "84.30339262885937\n"
     ]
    }
   ],
   "source": [
    "import math\n",
    "def areaPentagon(a):\n",
    "    insqr = float((5+2 * math.sqrt(5) ) * 5)\n",
    "    area = 1/4 *   math.sqrt(insqr) * a * a\n",
    "    return area\n",
    "print(areaPentagon(7))"
   ]
  },
  {
   "cell_type": "markdown",
   "metadata": {},
   "source": [
    "### 13. Write a program using functions to display Pascal’s triangle."
   ]
  },
  {
   "cell_type": "code",
   "execution_count": null,
   "metadata": {},
   "outputs": [],
   "source": []
  },
  {
   "cell_type": "markdown",
   "metadata": {},
   "source": [
    "### 14. Write a program using functions to print harmonic progression series and its sum till N terms."
   ]
  },
  {
   "cell_type": "code",
   "execution_count": 95,
   "metadata": {},
   "outputs": [
    {
     "name": "stdout",
     "output_type": "stream",
     "text": [
      "0.2\n",
      "0.1\n",
      "0.06666666666666667\n"
     ]
    }
   ],
   "source": [
    "def harmonicprogressionseries(num):\n",
    "    for i in range(5,num,5):\n",
    "        print(1/i)\n",
    "harmonicprogressionseries(20)\n",
    "\n",
    "        "
   ]
  },
  {
   "cell_type": "markdown",
   "metadata": {},
   "source": [
    "### 15. Write a program using functions to do the following tasks:\n",
    "- a. Convert milliseconds to hours, minutes and seconds.\n",
    "- b. Compute a sales commission, given the sales amount and the commission rate.\n",
    "- c. Convert Celsius to Fahrenheit.\n",
    "- d. Compute the monthly payment, given the loan amount, number of years and the annual interest rate."
   ]
  },
  {
   "cell_type": "code",
   "execution_count": 97,
   "metadata": {},
   "outputs": [
    {
     "data": {
      "text/plain": [
       "0.01111111111111111"
      ]
     },
     "execution_count": 97,
     "metadata": {},
     "output_type": "execute_result"
    }
   ],
   "source": [
    "# A\n",
    "def a(milisecond):\n",
    "    second = milisecond / 1000\n",
    "    minutes = second / 60\n",
    "    hours = minutes / 60\n",
    "    return hours\n",
    "a(40000)\n"
   ]
  },
  {
   "cell_type": "code",
   "execution_count": 103,
   "metadata": {},
   "outputs": [
    {
     "name": "stdout",
     "output_type": "stream",
     "text": [
      "300.0\n"
     ]
    }
   ],
   "source": [
    "# B\n",
    "def b(amount,commission_rate):\n",
    "    sales = amount/ (commission_rate / 100)\n",
    "    return sales\n",
    "print(b(30,10))\n"
   ]
  },
  {
   "cell_type": "code",
   "execution_count": 107,
   "metadata": {},
   "outputs": [
    {
     "data": {
      "text/plain": [
       "50.0"
      ]
     },
     "execution_count": 107,
     "metadata": {},
     "output_type": "execute_result"
    }
   ],
   "source": [
    "# c\n",
    "def c(celies):\n",
    "    fahrenheint = (celies * 9/5) + 32\n",
    "    return fahrenheint\n",
    "c(10)"
   ]
  },
  {
   "cell_type": "code",
   "execution_count": null,
   "metadata": {},
   "outputs": [],
   "source": []
  },
  {
   "cell_type": "markdown",
   "metadata": {},
   "source": [
    "=========="
   ]
  },
  {
   "cell_type": "markdown",
   "metadata": {},
   "source": [
    "## Chapter(5) Programming Exercises - Strings"
   ]
  },
  {
   "cell_type": "markdown",
   "metadata": {},
   "source": [
    "### 11. Write a function that takes a string as an argument and displays the letters backward, one per line."
   ]
  },
  {
   "cell_type": "code",
   "execution_count": 12,
   "metadata": {},
   "outputs": [
    {
     "name": "stdout",
     "output_type": "stream",
     "text": [
      "malse\n"
     ]
    }
   ],
   "source": [
    "def putlist(name):\n",
    "    rev = name[::-1]\n",
    "    return rev\n",
    "print(putlist('eslam'))"
   ]
  },
  {
   "cell_type": "markdown",
   "metadata": {},
   "source": [
    "### 12. Write a Python program to access the last character of the string with the help of len() function."
   ]
  },
  {
   "cell_type": "code",
   "execution_count": 20,
   "metadata": {},
   "outputs": [
    {
     "name": "stdout",
     "output_type": "stream",
     "text": [
      "m\n"
     ]
    }
   ],
   "source": [
    "names = 'eslam'\n",
    "last = len(names)\n",
    "print(names[last- 1])"
   ]
  },
  {
   "cell_type": "markdown",
   "metadata": {},
   "source": [
    "### 13. Ask the user for a string, and then for a number. Print out that string, that many times. (For example, if the string is Python and the number is 3 you should print out PythonPythonPython.)"
   ]
  },
  {
   "cell_type": "code",
   "execution_count": 22,
   "metadata": {},
   "outputs": [
    {
     "name": "stdin",
     "output_type": "stream",
     "text": [
      "Enter string eslam\n",
      "Enter number 3\n"
     ]
    },
    {
     "name": "stdout",
     "output_type": "stream",
     "text": [
      "eslameslameslam\n"
     ]
    }
   ],
   "source": [
    "sentence = input(\"Enter string\")\n",
    "numbersofsentence = int(input(\"Enter number\"))\n",
    "result = sentence * numbersofsentence\n",
    "print(result)"
   ]
  },
  {
   "cell_type": "markdown",
   "metadata": {},
   "source": [
    "### 14. Write a program that reads the date in the format (dd/mm/yyyy) and replaces the ‘/’ with a ‘-’ and displays the date in (dd-mm-yyyy) format."
   ]
  },
  {
   "cell_type": "code",
   "execution_count": 26,
   "metadata": {},
   "outputs": [
    {
     "name": "stdin",
     "output_type": "stream",
     "text": [
      "Enter data like this (dd/mm/yyyy) 20/3/2003\n"
     ]
    },
    {
     "name": "stdout",
     "output_type": "stream",
     "text": [
      "20-3-2003\n"
     ]
    }
   ],
   "source": [
    "date = input(\"Enter data like this (dd/mm/yyyy)\")\n",
    "result = date.replace('/','-')\n",
    "print(result)"
   ]
  },
  {
   "cell_type": "markdown",
   "metadata": {},
   "source": [
    "### 15. Write a function that finds the number of occurrences of a specified character in a string."
   ]
  },
  {
   "cell_type": "code",
   "execution_count": 7,
   "metadata": {},
   "outputs": [
    {
     "name": "stdin",
     "output_type": "stream",
     "text": [
      "Enter string wael\n",
      "Enter char p\n"
     ]
    },
    {
     "name": "stdout",
     "output_type": "stream",
     "text": [
      "0\n"
     ]
    }
   ],
   "source": [
    "def convert(name , char):\n",
    "    count = 0\n",
    "    for i in name:\n",
    "        if i == char:\n",
    "            count = count + 1\n",
    "    return count\n",
    "    \n",
    "occure = input(\"Enter string\")\n",
    "char = input(\"Enter char\")\n",
    "number = convert(occure,char)\n",
    "print(number)"
   ]
  },
  {
   "cell_type": "markdown",
   "metadata": {},
   "source": [
    "### 16. Write a program that parses a binary number to a decimal integer. For example, 11001 (1 * $2^{4}$ + 1 * $2^{3}$ + 0 * $2^{2}$ + 0 * $2^{1}$ + 1 * $2^{0}$)."
   ]
  },
  {
   "cell_type": "code",
   "execution_count": 47,
   "metadata": {},
   "outputs": [
    {
     "name": "stdin",
     "output_type": "stream",
     "text": [
      "Enter Binary number 11001\n"
     ]
    },
    {
     "name": "stdout",
     "output_type": "stream",
     "text": [
      "1\n",
      "0\n",
      "0\n",
      "1\n",
      "1\n",
      "25\n"
     ]
    }
   ],
   "source": [
    "numbers = input(\"Enter Binary number\")\n",
    "power = 0\n",
    "result = 0\n",
    "numberfor = reversed(numbers)\n",
    "for i in numberfor:\n",
    "    print(i)\n",
    "    result = result + int(i) * (2 ** power)\n",
    "    power = power + 1\n",
    "print(result)"
   ]
  },
  {
   "cell_type": "markdown",
   "metadata": {},
   "source": [
    "### 18. Write a program that accepts a string from the user and display the same string after removing vowels from it."
   ]
  },
  {
   "cell_type": "code",
   "execution_count": 10,
   "metadata": {},
   "outputs": [
    {
     "name": "stdin",
     "output_type": "stream",
     "text": [
      "Enter text :  eslam\n"
     ]
    },
    {
     "name": "stdout",
     "output_type": "stream",
     "text": [
      "slm\n"
     ]
    }
   ],
   "source": [
    "text = list(input(\"Enter text : \"))\n",
    "\n",
    "for i in text:\n",
    "    if i == 'a' or i == 'A':\n",
    "        text.remove(i)\n",
    "    elif i == 'e' or i == 'E':\n",
    "        text.remove(i)\n",
    "    elif i == 'i' or i == 'I':\n",
    "        text.remove(i)\n",
    "    elif i == 'o' or i == 'O':\n",
    "        text.remove(i)\n",
    "    elif i == 'u' or i == 'U':\n",
    "        text.remove(i)\n",
    "    elif i == 'y' or i == 'Y':\n",
    "        text.remove(i)\n",
    "output = ''.join(text)\n",
    "\n",
    "print(output)"
   ]
  },
  {
   "cell_type": "markdown",
   "metadata": {},
   "source": [
    "### 19. Write a function to insert a string in the middle of the string."
   ]
  },
  {
   "cell_type": "code",
   "execution_count": 41,
   "metadata": {},
   "outputs": [
    {
     "name": "stdout",
     "output_type": "stream",
     "text": [
      "mido adel\n"
     ]
    }
   ],
   "source": [
    "def func(subtext,text):\n",
    "    middle = int(len(text) / 2)\n",
    "    print(subtext+text[middle::])\n",
    "func(\"mido\" , \"eslam adel\")"
   ]
  },
  {
   "cell_type": "markdown",
   "metadata": {},
   "source": [
    "### 20. Write a program to sort a string lexicographically"
   ]
  },
  {
   "cell_type": "code",
   "execution_count": 4,
   "metadata": {},
   "outputs": [
    {
     "name": "stdin",
     "output_type": "stream",
     "text": [
      "Enter text :  eslam\n"
     ]
    },
    {
     "name": "stdout",
     "output_type": "stream",
     "text": [
      "aelms\n"
     ]
    }
   ],
   "source": [
    "text = input(\"Enter text : \")\n",
    "textoflist = list(text)\n",
    "textoflist.sort()\n",
    "result = ''\n",
    "result = ''.join(textoflist)\n",
    "print(result)"
   ]
  },
  {
   "cell_type": "markdown",
   "metadata": {},
   "source": [
    "### 21. Write a program to replace a string with another string without using built-in methods."
   ]
  },
  {
   "cell_type": "code",
   "execution_count": 14,
   "metadata": {},
   "outputs": [
    {
     "name": "stdin",
     "output_type": "stream",
     "text": [
      "Enter sentence eslam adel elkhouly\n",
      "Enter text replace in sentence adel\n",
      "Enter new text mido\n"
     ]
    },
    {
     "name": "stdout",
     "output_type": "stream",
     "text": [
      "eslam mido elkhouly\n"
     ]
    }
   ],
   "source": [
    "sentence = input(\"Enter sentence\")\n",
    "textrep = input(\"Enter text replace in sentence\")\n",
    "textrep2 = input(\"Enter new text\")\n",
    "sentence = sentence.replace(textrep,textrep2)\n",
    "print(sentence)"
   ]
  },
  {
   "cell_type": "markdown",
   "metadata": {},
   "source": [
    "### 22. Write a program to concatenate two strings into another string without using the + operator."
   ]
  },
  {
   "cell_type": "code",
   "execution_count": 18,
   "metadata": {},
   "outputs": [
    {
     "data": {
      "text/plain": [
       "'Eslam adelMahmoued adel'"
      ]
     },
     "execution_count": 18,
     "metadata": {},
     "output_type": "execute_result"
    }
   ],
   "source": [
    "text1 = \"Eslam adel\"\n",
    "text2 = \"Mahmoued adel\"\n",
    "result = text1 + text2\n",
    "result"
   ]
  },
  {
   "cell_type": "markdown",
   "metadata": {},
   "source": [
    "### 23. Write a program to strip a set of characters from a string."
   ]
  },
  {
   "cell_type": "code",
   "execution_count": 23,
   "metadata": {},
   "outputs": [
    {
     "name": "stdout",
     "output_type": "stream",
     "text": [
      "{'y', 'E', 'k', 'd', 'o', ' ', 'a', 'e', 'u', 'h', 'm', 's', 'l'}\n"
     ]
    }
   ],
   "source": [
    "text = \"Eslam adel elkhouly\"\n",
    "convtext = set()\n",
    "for i in text:\n",
    "    convtext.add(i)\n",
    "print(convtext)"
   ]
  },
  {
   "cell_type": "markdown",
   "metadata": {},
   "source": [
    "### 24. Write a program to extract the first n characters of a string."
   ]
  },
  {
   "cell_type": "code",
   "execution_count": 20,
   "metadata": {},
   "outputs": [
    {
     "name": "stdout",
     "output_type": "stream",
     "text": [
      "E\n"
     ]
    }
   ],
   "source": [
    "text = \"Eslam\"\n",
    "print(text[0])"
   ]
  },
  {
   "cell_type": "markdown",
   "metadata": {},
   "source": [
    "=========="
   ]
  },
  {
   "cell_type": "markdown",
   "metadata": {},
   "source": [
    "## Chapter(6) Programming Exercises - Lists"
   ]
  },
  {
   "cell_type": "markdown",
   "metadata": {},
   "source": [
    "### 7. Write a program that creates a list of 10 random integers. Then create two lists by name odd_list and even_list that have all odd and even values of the list respectively."
   ]
  },
  {
   "cell_type": "code",
   "execution_count": 35,
   "metadata": {},
   "outputs": [
    {
     "name": "stdout",
     "output_type": "stream",
     "text": [
      "The random list is: [2, 1, 4, 1, 0, 2, 8, 1, 3, 1]\n",
      "The even list is: [2, 4, 0, 2, 8]\n",
      "The odd list is: [1, 1, 1, 3, 1]\n"
     ]
    }
   ],
   "source": [
    "import random\n",
    "\n",
    "basic_list = []\n",
    "even_list = []\n",
    "odd_list = []\n",
    "\n",
    "for i in range(10):\n",
    "    basic_list.append(random.randint(0, 9))\n",
    "\n",
    "for i in basic_list:\n",
    "    if i % 2 == 0:\n",
    "        even_list.append(i)\n",
    "    else:\n",
    "        odd_list.append(i)\n",
    "    \n",
    "print(\"The random list is:\", basic_list)\n",
    "print(\"The even list is:\", even_list)\n",
    "print(\"The odd list is:\", odd_list)"
   ]
  },
  {
   "cell_type": "markdown",
   "metadata": {},
   "source": [
    "### 8. Write a program to sort the elements in ascending order using insertion sort."
   ]
  },
  {
   "cell_type": "code",
   "execution_count": 16,
   "metadata": {},
   "outputs": [
    {
     "name": "stdout",
     "output_type": "stream",
     "text": [
      "[0, 1, 3, 4, 4, 7]\n"
     ]
    }
   ],
   "source": [
    "def inserstionsort(arr):\n",
    "    n = len(arr)\n",
    "    if n <= 1:\n",
    "        return\n",
    "    for i in range(1,n):\n",
    "        key = arr[i]\n",
    "        j = i - 1\n",
    "        while j >= 0 and key < arr[j]:\n",
    "            arr[j+1] = arr[j]\n",
    "            j -= 1\n",
    "        arr[j+1] = key\n",
    "    return arr\n",
    "\n",
    "arr = [0,4,7,1,4,3]\n",
    "print(inserstionsort(arr))"
   ]
  },
  {
   "cell_type": "markdown",
   "metadata": {},
   "source": [
    "### 9. Write a Python program to use binary search to find the key element in the list."
   ]
  },
  {
   "cell_type": "code",
   "execution_count": 40,
   "metadata": {},
   "outputs": [
    {
     "name": "stdout",
     "output_type": "stream",
     "text": [
      "Element is present at index 3\n"
     ]
    }
   ],
   "source": [
    "def binary_search(arr, x):\n",
    "    low = 0\n",
    "    high = len(arr) - 1\n",
    "    mid = 0\n",
    " \n",
    "    while low <= high:\n",
    " \n",
    "        mid = (high + low) // 2\n",
    " \n",
    "        if arr[mid] < x:\n",
    "            low = mid + 1\n",
    " \n",
    "        elif arr[mid] > x:\n",
    "            high = mid - 1\n",
    " \n",
    "        else:\n",
    "            return mid\n",
    " \n",
    "    return -1\n",
    " \n",
    " \n",
    "# Test array\n",
    "arr = [ 2, 3, 4, 10, 40 ]\n",
    "x = 10\n",
    " \n",
    "# Function call\n",
    "result = binary_search(arr, x)\n",
    " \n",
    "if result != -1:\n",
    "    print(\"Element is present at index\", str(result))\n",
    "else:\n",
    "    print(\"Element is not present in array\")"
   ]
  },
  {
   "cell_type": "markdown",
   "metadata": {},
   "source": [
    "### 11. Write a program to sort the elements in ascending order using selection sort."
   ]
  },
  {
   "cell_type": "code",
   "execution_count": null,
   "metadata": {},
   "outputs": [],
   "source": []
  },
  {
   "cell_type": "markdown",
   "metadata": {},
   "source": [
    "### 12. Write a program that prints the maximum value of the second half of the list."
   ]
  },
  {
   "cell_type": "code",
   "execution_count": null,
   "metadata": {},
   "outputs": [],
   "source": []
  },
  {
   "cell_type": "markdown",
   "metadata": {},
   "source": [
    "### 13. Write a program that creates a list of numbers 1–100 that are either divisible by 5 or 6."
   ]
  },
  {
   "cell_type": "code",
   "execution_count": null,
   "metadata": {},
   "outputs": [],
   "source": []
  },
  {
   "cell_type": "markdown",
   "metadata": {},
   "source": [
    "### 14. Write a function that prompts the user to enter five numbers, then invoke a function to find the GCD of these numbers."
   ]
  },
  {
   "cell_type": "code",
   "execution_count": null,
   "metadata": {},
   "outputs": [],
   "source": []
  },
  {
   "cell_type": "markdown",
   "metadata": {},
   "source": [
    "=========="
   ]
  },
  {
   "cell_type": "markdown",
   "metadata": {},
   "source": [
    "## Chapter(7) Programming Exercises - Dictionaries"
   ]
  },
  {
   "cell_type": "markdown",
   "metadata": {},
   "source": [
    "### 5. Write a function that prompts the user for the average temperature for each day of the week and returns a dictionary containing the entered information."
   ]
  },
  {
   "cell_type": "code",
   "execution_count": null,
   "metadata": {},
   "outputs": [],
   "source": []
  },
  {
   "cell_type": "markdown",
   "metadata": {},
   "source": [
    "### 6. Write a Python program to input information about a few employees as given below: a. Name b. Employee Id c. Salary. The program should output the employee ID and salary of a specified employee, given his name."
   ]
  },
  {
   "cell_type": "code",
   "execution_count": null,
   "metadata": {},
   "outputs": [],
   "source": []
  },
  {
   "cell_type": "markdown",
   "metadata": {},
   "source": [
    "### 7. Write a function named addfruit, which is passed with a set of fruit names and their prices and returns a dictionary containing the entered information and raises a ValueError exception if the fruit is already present."
   ]
  },
  {
   "cell_type": "code",
   "execution_count": null,
   "metadata": {},
   "outputs": [],
   "source": []
  },
  {
   "cell_type": "markdown",
   "metadata": {},
   "source": [
    "### 8. Write a function to add the air quality index as the value and the date as the key; create the dictionary for the entered information"
   ]
  },
  {
   "cell_type": "code",
   "execution_count": null,
   "metadata": {},
   "outputs": [],
   "source": []
  },
  {
   "cell_type": "markdown",
   "metadata": {},
   "source": [
    "### 9. Create a dictionary that contains usernames as the key and passwords as the associated values. Make up the data for five dictionary entries and demonstrate the use of clear and fromkeys() methods."
   ]
  },
  {
   "cell_type": "code",
   "execution_count": null,
   "metadata": {},
   "outputs": [],
   "source": []
  },
  {
   "cell_type": "markdown",
   "metadata": {},
   "source": [
    "### 10. Write Pythonic code to create a dictionary that accepts a country name as a key and its capital city as the value. Display the details in sorted order."
   ]
  },
  {
   "cell_type": "code",
   "execution_count": null,
   "metadata": {},
   "outputs": [],
   "source": []
  },
  {
   "cell_type": "markdown",
   "metadata": {},
   "source": [
    "### 11. Write a program that has the dictionary of your friends’ names as keys and phone numbers as its values. Print the dictionary in a sorted order. Prompt the user to enter the name and check if it is present in the dictionary. If the name is not present, then enter the details in the dictionary."
   ]
  },
  {
   "cell_type": "code",
   "execution_count": null,
   "metadata": {},
   "outputs": [],
   "source": []
  },
  {
   "cell_type": "markdown",
   "metadata": {},
   "source": [
    "### 12. Write a program to create a dictionary containing the author name as the keys and ISBN number as the value. Make up the data for five dictionary entries and demonstrate the use of clear() and fromkeys() methods."
   ]
  },
  {
   "cell_type": "code",
   "execution_count": null,
   "metadata": {},
   "outputs": [],
   "source": []
  },
  {
   "cell_type": "markdown",
   "metadata": {},
   "source": [
    "=========="
   ]
  },
  {
   "cell_type": "markdown",
   "metadata": {},
   "source": [
    "## Chapter(8) Programming Exercises - Tuples & Sets"
   ]
  },
  {
   "cell_type": "markdown",
   "metadata": {},
   "source": [
    "### 11. Write a program to unpack a tuple to several variables."
   ]
  },
  {
   "cell_type": "code",
   "execution_count": null,
   "metadata": {},
   "outputs": [],
   "source": []
  },
  {
   "cell_type": "markdown",
   "metadata": {},
   "source": [
    "### 12. Write a program to check whether an item exists within a tuple."
   ]
  },
  {
   "cell_type": "code",
   "execution_count": null,
   "metadata": {},
   "outputs": [],
   "source": []
  },
  {
   "cell_type": "markdown",
   "metadata": {},
   "source": [
    "### 13. Write a program to unzip a list of tuples into individual lists."
   ]
  },
  {
   "cell_type": "code",
   "execution_count": null,
   "metadata": {},
   "outputs": [],
   "source": []
  },
  {
   "cell_type": "markdown",
   "metadata": {},
   "source": [
    "### 14. Write a program to create an intersection, union, set difference, and symmetric difference of sets."
   ]
  },
  {
   "cell_type": "code",
   "execution_count": null,
   "metadata": {},
   "outputs": [],
   "source": []
  },
  {
   "cell_type": "markdown",
   "metadata": {},
   "source": [
    "### 15. Write a program to demonstrate the use of issubset() and issuperset() methods."
   ]
  },
  {
   "cell_type": "code",
   "execution_count": null,
   "metadata": {},
   "outputs": [],
   "source": []
  },
  {
   "cell_type": "markdown",
   "metadata": {},
   "source": [
    "### 16. Write a program that takes a range and creates a list of tuples within that range with the first element as the number and the second element as the square of the number."
   ]
  },
  {
   "cell_type": "code",
   "execution_count": null,
   "metadata": {},
   "outputs": [],
   "source": []
  },
  {
   "cell_type": "markdown",
   "metadata": {},
   "source": [
    "### 17. Write a program to clear a set."
   ]
  },
  {
   "cell_type": "code",
   "execution_count": null,
   "metadata": {},
   "outputs": [],
   "source": []
  },
  {
   "cell_type": "markdown",
   "metadata": {},
   "source": [
    "### 18. Write a program to find the length of the set."
   ]
  },
  {
   "cell_type": "code",
   "execution_count": null,
   "metadata": {},
   "outputs": [],
   "source": []
  },
  {
   "cell_type": "markdown",
   "metadata": {},
   "source": [
    "### 19. Write a program to store the latitude and longitude of your house as a tuple and display it."
   ]
  },
  {
   "cell_type": "code",
   "execution_count": null,
   "metadata": {},
   "outputs": [],
   "source": []
  },
  {
   "cell_type": "markdown",
   "metadata": {},
   "source": [
    "=========="
   ]
  }
 ],
 "metadata": {
  "kernelspec": {
   "display_name": "Python 3 (ipykernel)",
   "language": "python",
   "name": "python3"
  },
  "language_info": {
   "codemirror_mode": {
    "name": "ipython",
    "version": 3
   },
   "file_extension": ".py",
   "mimetype": "text/x-python",
   "name": "python",
   "nbconvert_exporter": "python",
   "pygments_lexer": "ipython3",
   "version": "3.12.7"
  }
 },
 "nbformat": 4,
 "nbformat_minor": 4
}
