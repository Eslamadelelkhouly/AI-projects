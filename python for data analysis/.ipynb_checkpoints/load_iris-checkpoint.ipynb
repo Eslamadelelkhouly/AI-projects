{
 "cells": [
  {
   "cell_type": "code",
   "execution_count": 2,
   "id": "2d7e3823-1b69-41e0-9829-55f3ce0101cc",
   "metadata": {},
   "outputs": [],
   "source": [
    "from sklearn.datasets import load_iris"
   ]
  },
  {
   "cell_type": "code",
   "execution_count": 4,
   "id": "b83e50ee-c0a3-4b9d-a0db-fd0a734ebacc",
   "metadata": {},
   "outputs": [],
   "source": [
    "data_load_iris = load_iris()"
   ]
  },
  {
   "cell_type": "code",
   "execution_count": 12,
   "id": "ebc16145-f110-4b80-946f-71674ec0c22b",
   "metadata": {},
   "outputs": [],
   "source": [
    "x = data_load_iris.data"
   ]
  },
  {
   "cell_type": "code",
   "execution_count": 20,
   "id": "a14ab37f-8655-4531-b093-4a37a2684fb2",
   "metadata": {},
   "outputs": [
    {
     "name": "stdout",
     "output_type": "stream",
     "text": [
      "X =  [[5.1 3.5 1.4 0.2]\n",
      " [4.9 3.  1.4 0.2]\n",
      " [4.7 3.2 1.3 0.2]\n",
      " [4.6 3.1 1.5 0.2]]\n",
      "shape x =  (150, 4)\n"
     ]
    }
   ],
   "source": [
    "print(\"X = \",x[:4])\n",
    "print(\"shape x = \",x.shape)"
   ]
  },
  {
   "cell_type": "code",
   "execution_count": 22,
   "id": "1b71a28d-b26a-41ee-8d14-3073649d743b",
   "metadata": {},
   "outputs": [
    {
     "name": "stdout",
     "output_type": "stream",
     "text": [
      "Feature of X =  ['sepal length (cm)', 'sepal width (cm)', 'petal length (cm)', 'petal width (cm)']\n"
     ]
    }
   ],
   "source": [
    "print(\"Feature of X = \", data_load_iris.feature_names)"
   ]
  },
  {
   "cell_type": "code",
   "execution_count": 26,
   "id": "42ecd796-7b6e-4945-99b0-433768497ad5",
   "metadata": {},
   "outputs": [
    {
     "name": "stdout",
     "output_type": "stream",
     "text": [
      "Target names of Data  =  ['setosa' 'versicolor' 'virginica']\n"
     ]
    }
   ],
   "source": [
    "print(\"Target names of Data  = \", data_load_iris.target_names)"
   ]
  },
  {
   "cell_type": "code",
   "execution_count": 34,
   "id": "6fc30ef1-c1ed-474e-b48d-f9e827695bb1",
   "metadata": {},
   "outputs": [
    {
     "name": "stdout",
     "output_type": "stream",
     "text": [
      "Target of data  [0 0 0 0 0 0 0 0 0 0 0 0 0 0 0 0 0 0 0 0 0 0 0 0 0 0 0 0 0 0 0 0 0 0 0 0 0\n",
      " 0 0 0 0 0 0 0 0 0 0 0 0 0 1 1 1 1 1 1 1 1 1 1 1 1 1 1 1 1 1 1 1 1 1 1 1 1\n",
      " 1 1 1 1 1 1 1 1 1 1 1 1 1 1 1 1 1 1 1 1 1 1 1 1 1 1 2 2 2 2 2 2 2 2 2 2 2\n",
      " 2 2 2 2 2 2 2 2 2 2 2 2 2 2 2 2 2 2 2 2 2 2 2 2 2 2 2 2 2 2 2 2 2 2 2 2 2\n",
      " 2 2]\n",
      "Shape of Target of data  (150,)\n"
     ]
    }
   ],
   "source": [
    "y = data_load_iris.target\n",
    "print(\"Target of data \",y[:])\n",
    "print(\"Shape of Target of data \",y.shape)"
   ]
  },
  {
   "cell_type": "code",
   "execution_count": null,
   "id": "4d9d2ab8-3ac3-4665-a329-360d053ec960",
   "metadata": {},
   "outputs": [],
   "source": []
  }
 ],
 "metadata": {
  "kernelspec": {
   "display_name": "Python 3 (ipykernel)",
   "language": "python",
   "name": "python3"
  },
  "language_info": {
   "codemirror_mode": {
    "name": "ipython",
    "version": 3
   },
   "file_extension": ".py",
   "mimetype": "text/x-python",
   "name": "python",
   "nbconvert_exporter": "python",
   "pygments_lexer": "ipython3",
   "version": "3.12.7"
  }
 },
 "nbformat": 4,
 "nbformat_minor": 5
}
