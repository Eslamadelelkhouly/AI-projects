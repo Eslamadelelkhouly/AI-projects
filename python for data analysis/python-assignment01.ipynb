{
 "cells": [
  {
   "cell_type": "markdown",
   "metadata": {
    "id": "z41x7P_2nc_8"
   },
   "source": [
    "# Introduction to Python Programming, Gowrishankar & Veena (2019)"
   ]
  },
  {
   "cell_type": "markdown",
   "metadata": {
    "id": "tONIkN_HndAH"
   },
   "source": [
    "## Chapter(2) Programming Exercises - Python Basics"
   ]
  },
  {
   "cell_type": "markdown",
   "metadata": {
    "id": "GVlZ8iN2ndAI"
   },
   "source": [
    "### 9. Write a program to read two integers and perform arithmetic operations on them (addition, subtraction, multiplication and division)."
   ]
  },
  {
   "cell_type": "code",
   "execution_count": 4,
   "metadata": {
    "id": "vovEygBgndAJ"
   },
   "outputs": [
    {
     "name": "stdin",
     "output_type": "stream",
     "text": [
      "Enter first number 3\n",
      "Enter second number 4\n"
     ]
    },
    {
     "name": "stdout",
     "output_type": "stream",
     "text": [
      "Add  7\n",
      "subtract  -1\n",
      "multiply  12\n",
      "divide  0.75\n"
     ]
    }
   ],
   "source": [
    "x = int(input(\"Enter first number\"))\n",
    "y = int(input(\"Enter second number\"))\n",
    "print(\"Add \", x+y)\n",
    "print(\"subtract \", x-y)\n",
    "print(\"multiply \", x*y)\n",
    "print(\"divide \", x/y)"
   ]
  },
  {
   "cell_type": "markdown",
   "metadata": {
    "id": "a5PKpsuBndAJ"
   },
   "source": [
    "### 10. Write a program to read the marks of three subjects and find the average of them."
   ]
  },
  {
   "cell_type": "code",
   "execution_count": 8,
   "metadata": {
    "id": "h2-2z8ArndAK"
   },
   "outputs": [
    {
     "name": "stdin",
     "output_type": "stream",
     "text": [
      "Enter mark subject1 1\n",
      "Enter mark subject2 2\n",
      "Enter mark subject3 3\n"
     ]
    },
    {
     "name": "stdout",
     "output_type": "stream",
     "text": [
      "Average =  2.0\n"
     ]
    }
   ],
   "source": [
    "mark1 = int(input(\"Enter mark subject1\"))\n",
    "mark2 = int(input(\"Enter mark subject2\"))\n",
    "mark3 = int(input(\"Enter mark subject3\"))\n",
    "average = (mark1+mark2+mark3) / 3\n",
    "print(\"Average = \",average)"
   ]
  },
  {
   "cell_type": "markdown",
   "metadata": {
    "id": "5P6o5QmUndAK"
   },
   "source": [
    "### 11. Write a program to convert kilogram into pound."
   ]
  },
  {
   "cell_type": "code",
   "execution_count": 13,
   "metadata": {
    "id": "-zD-CbwpndAL"
   },
   "outputs": [
    {
     "name": "stdin",
     "output_type": "stream",
     "text": [
      "Enter kilogram 5\n"
     ]
    },
    {
     "name": "stdout",
     "output_type": "stream",
     "text": [
      "Pound =  11.023113109\n"
     ]
    }
   ],
   "source": [
    "kilo = int(input(\"Enter kilogram\"))\n",
    "pound = kilo * 2.2046226218\n",
    "print(\"Pound = \",pound)"
   ]
  },
  {
   "cell_type": "markdown",
   "metadata": {
    "id": "SAoeUItdndAM"
   },
   "source": [
    "### 12. Surface area of a prism can be calculated if the lengths of the three sides are known. Write a program that takes the sides as input (read it as integer) and prints the surface area of the prism (Surface Area = 2ab + 2bc + 2ca)."
   ]
  },
  {
   "cell_type": "code",
   "execution_count": 17,
   "metadata": {
    "id": "l2Rc1eXFndAM"
   },
   "outputs": [
    {
     "name": "stdin",
     "output_type": "stream",
     "text": [
      "Enter side1 1\n",
      "Enter side2 2\n",
      "Enter side3 3\n"
     ]
    },
    {
     "name": "stdout",
     "output_type": "stream",
     "text": [
      "Surface area =  22\n"
     ]
    }
   ],
   "source": [
    "a = int(input(\"Enter side1\"))\n",
    "b = int(input(\"Enter side2\"))\n",
    "c = int(input(\"Enter side3\"))\n",
    "print(\"Surface area = \", (2*a*b) + (2*b*c) + (2*c*a))"
   ]
  },
  {
   "cell_type": "markdown",
   "metadata": {
    "id": "3Kj4Q5QDndAN"
   },
   "source": [
    "### 13. A plane travels 395,000 meters in 9000 seconds. Write a program to find the speed of the plane (Speed = Distance / Time)."
   ]
  },
  {
   "cell_type": "code",
   "execution_count": 30,
   "metadata": {
    "id": "qeKzLT1BndAN"
   },
   "outputs": [
    {
     "name": "stdout",
     "output_type": "stream",
     "text": [
      "Speed =  0.04388888888888889\n"
     ]
    }
   ],
   "source": [
    "distance = 395.000 \n",
    "time = 9000\n",
    "speed = distance / time\n",
    "print(\"Speed = \",speed)"
   ]
  },
  {
   "cell_type": "markdown",
   "metadata": {
    "id": "uVOuL18CndAN"
   },
   "source": [
    "### 14. You need to empty out the rectangular swimming pool which is 12 meters long, 7  meters wide and 2  meter depth. You have a pump which can move 17  cubic meters of water in an hour. Write a program to find how long it will take to empty your pool? (Volume = l * w * h, and flow = volume/time)."
   ]
  },
  {
   "cell_type": "code",
   "execution_count": 33,
   "metadata": {
    "id": "erIDlpzwndAN"
   },
   "outputs": [
    {
     "name": "stdout",
     "output_type": "stream",
     "text": [
      "Long take  9.882352941176471\n"
     ]
    }
   ],
   "source": [
    "width = 12\n",
    "height = 7\n",
    "depth = 2\n",
    "volumeintime= 17\n",
    "volume = width * height * 2\n",
    "flow = volume / volumeintime\n",
    "print(\"Long take \",flow)"
   ]
  },
  {
   "cell_type": "markdown",
   "metadata": {
    "id": "hVDCk8vrndAO"
   },
   "source": [
    "### 15. Write a program to convert temperature from centigrade (read it as float value) to Fahrenheit."
   ]
  },
  {
   "cell_type": "code",
   "execution_count": 36,
   "metadata": {
    "id": "f04m2S3dndAO"
   },
   "outputs": [
    {
     "name": "stdin",
     "output_type": "stream",
     "text": [
      "Enter centigrade  0\n"
     ]
    },
    {
     "name": "stdout",
     "output_type": "stream",
     "text": [
      "Fahrenheit =  32.0\n"
     ]
    }
   ],
   "source": [
    "cen = float(input(\"Enter centigrade \"))\n",
    "conventer = (cen * 9/5) + 32\n",
    "print(\"Fahrenheit = \",conventer)"
   ]
  },
  {
   "cell_type": "markdown",
   "metadata": {
    "id": "oMOSYXJBndAO"
   },
   "source": [
    "### 16. Write a program that calculates the number of seconds in a day."
   ]
  },
  {
   "cell_type": "code",
   "execution_count": 47,
   "metadata": {
    "id": "Ih1bZMbjndAO"
   },
   "outputs": [
    {
     "name": "stdout",
     "output_type": "stream",
     "text": [
      "Second in day =  86400\n"
     ]
    }
   ],
   "source": [
    "second = int(1)\n",
    "minute = int(60 * second)\n",
    "hour = int(60 * minute)\n",
    "day = int(24 * hour)\n",
    "print(\"Second in day = \",day)"
   ]
  },
  {
   "cell_type": "markdown",
   "metadata": {
    "id": "tek63UfdndAP"
   },
   "source": [
    "### 17. A car starts from a stoplight and is traveling with a velocity of 10 m/sec east in 20 seconds. Write a program to find the acceleration of the car. (acc = (vfinal−vinitial)/time)."
   ]
  },
  {
   "cell_type": "code",
   "execution_count": 54,
   "metadata": {
    "id": "cgjWWvA7ndAP"
   },
   "outputs": [
    {
     "name": "stdout",
     "output_type": "stream",
     "text": [
      "Acceleration =  0.5\n"
     ]
    }
   ],
   "source": [
    "vinitial = 0\n",
    "vfinal = 10\n",
    "acc = (vfinal - vinitial) / 20\n",
    "print(\"Acceleration = \",acc)"
   ]
  },
  {
   "cell_type": "markdown",
   "metadata": {
    "id": "JqOBT0T-ndAP"
   },
   "source": [
    "=========="
   ]
  },
  {
   "cell_type": "markdown",
   "metadata": {
    "id": "HkB_ZVXyndAQ"
   },
   "source": [
    "## Chapter(3) Programming Exercises - Control Flow"
   ]
  },
  {
   "cell_type": "markdown",
   "metadata": {
    "id": "v9WbKLgmndAQ"
   },
   "source": [
    "### 10. Write a program to read the Richter magnitude value from the user and display the result for the following conditions using if...elif...else statement."
   ]
  },
  {
   "cell_type": "markdown",
   "metadata": {
    "id": "yPLaORJsndAQ"
   },
   "source": [
    "| Richter Magnitude  \t| Information                                     \t|\n",
    "|--------------------\t|-------------------------------------------------\t|\n",
    "| > 1.0 and < 2.0    \t| Microearthquakes not felt or rarely felt        \t|\n",
    "| > 2.0 and < 4.0    \t| Very rarely causes damage                       \t|\n",
    "| > 4.0 and < 5.0    \t| Damage done to weak buildings                   \t|\n",
    "| > 5.0 and < 6.0    \t| Cause damage to the poorly constructed building \t|\n",
    "| > 6.0 and < 7.0    \t| Causes damage to well-built structures          \t|\n",
    "| > 7.0 and < 8.0    \t| Causes damage to most buildings                 \t|\n",
    "| > 8.0 and < 9.0    \t| Causes major destruction                        \t|\n",
    "| > 9.0              \t| Causes unbelievable damage                      \t|"
   ]
  },
  {
   "cell_type": "code",
   "execution_count": 56,
   "metadata": {
    "id": "pyaHPbGZndAQ"
   },
   "outputs": [
    {
     "name": "stdin",
     "output_type": "stream",
     "text": [
      " 3\n"
     ]
    },
    {
     "name": "stdout",
     "output_type": "stream",
     "text": [
      "Very rarely causes damage\n"
     ]
    }
   ],
   "source": [
    "value = float(input())\n",
    "if value > 1.0 and value < 2.0:\n",
    "    print(\"Microearthquakes not felt or rarely felt\")\n",
    "elif value > 2.0 and value < 4.0:\n",
    "    print(\"Very rarely causes damage\")\n",
    "elif value > 4.0 and value < 5.0:\n",
    "    print(\"Damage done to weak buildings\")\n",
    "elif value > 5.0 and value > 6.0:\n",
    "    print(\"Cause damage to the poorly constructed building\")\n",
    "elif value > 6.0 and value < 0.7:\n",
    "    print(\"Causes damage to well-built structures\")\n",
    "elif value > 7.0 and value < 8.0:\n",
    "    print(\"Causes damage to most buildings \")\n",
    "elif value > 8.0 and value < 9.0:\n",
    "    print(\"Causes major destruction\")\n",
    "else:\n",
    "    print(\"Causes unbelievable damage\")"
   ]
  },
  {
   "cell_type": "markdown",
   "metadata": {
    "id": "15juBzkrndAR"
   },
   "source": [
    "### 11. Write a program to display Pascal’s triangle."
   ]
  },
  {
   "cell_type": "code",
   "execution_count": 35,
   "metadata": {
    "id": "ZDRUp-XKndAR"
   },
   "outputs": [
    {
     "name": "stdin",
     "output_type": "stream",
     "text": [
      " 3\n"
     ]
    },
    {
     "name": "stdout",
     "output_type": "stream",
     "text": [
      "  1 \n",
      " 1 1 \n",
      "1 2 1 \n"
     ]
    }
   ],
   "source": [
    "rows = int(input())   #3\n",
    "for i in range(rows):\n",
    "        num = 1  \n",
    "        print(\" \" * (rows - i - 1), end=\"\")   # 3 - 1 - 1 = 1\n",
    "        for j in range(i + 1):  \n",
    "            print(num, end=\" \")\n",
    "            num = num * (i - j) // (j + 1)  \n",
    "        print()  \n",
    "    "
   ]
  },
  {
   "cell_type": "code",
   "execution_count": 39,
   "metadata": {},
   "outputs": [
    {
     "data": {
      "image/png": "[encoded data removed]",
      "text/plain": [
       "<IPython.core.display.Image object>"
      ]
     },
     "execution_count": 39,
     "metadata": {
      "image/png": {
       "height": 400,
       "width": 400
      }
     },
     "output_type": "execute_result"
    }
   ],
   "source": [
    "from IPython.display import Image\n",
    "Image(filename = \"data/pascal.png\", width = 400, height = 400)"
   ]
  },
  {
   "cell_type": "markdown",
   "metadata": {
    "id": "JE63_ceFndAS"
   },
   "source": [
    "### 13. Write a program that uses a while loop to add up all the even numbers between 100 and 200."
   ]
  },
  {
   "cell_type": "code",
   "execution_count": 46,
   "metadata": {
    "id": "eRQb6hCJndAS"
   },
   "outputs": [
    {
     "name": "stdout",
     "output_type": "stream",
     "text": [
      "7650\n"
     ]
    }
   ],
   "source": [
    "sum = 0\n",
    "for i in range(100,201):\n",
    "    if i % 2 == 0:\n",
    "        sum += i\n",
    "print(sum)"
   ]
  },
  {
   "cell_type": "markdown",
   "metadata": {
    "id": "5a4UcMfAndAT"
   },
   "source": [
    "### 14. Write a program to print the sum of the following series\n",
    "- a. 1 + ½ + 1/3 +. …. + 1/n\n",
    "- b. 1/1 + 22/2 + 33/3 + ……. + nn/n"
   ]
  },
  {
   "cell_type": "code",
   "execution_count": 42,
   "metadata": {
    "id": "EsYK9izondAT"
   },
   "outputs": [
    {
     "name": "stdin",
     "output_type": "stream",
     "text": [
      "Enter the number of terms:  4\n"
     ]
    },
    {
     "name": "stdout",
     "output_type": "stream",
     "text": [
      "Sum: 2.08\n"
     ]
    }
   ],
   "source": [
    "# a\n",
    "n = int(input('Enter the number of terms: '))\n",
    "s = 0\n",
    "i = 1\n",
    "\n",
    "while i <= n:\n",
    "    s += 1/i\n",
    "    i += 1\n",
    "    \n",
    "print(\"Sum: %.2f\" % s)"
   ]
  },
  {
   "cell_type": "code",
   "execution_count": 44,
   "metadata": {},
   "outputs": [
    {
     "name": "stdin",
     "output_type": "stream",
     "text": [
      "Enter the number of terms:  4\n"
     ]
    },
    {
     "name": "stdout",
     "output_type": "stream",
     "text": [
      "Sum: 76.00\n"
     ]
    }
   ],
   "source": [
    "# b\n",
    "n = int(input('Enter the number of terms: '))\n",
    "s = 0\n",
    "i = 1\n",
    "p = 1\n",
    "\n",
    "while i <= n:\n",
    "    s += (i ** p)/i\n",
    "    i += 1\n",
    "    p += 1\n",
    "    \n",
    "print(\"Sum: %.2f\" % s)"
   ]
  },
  {
   "cell_type": "markdown",
   "metadata": {
    "id": "i_BHscV3ndAU"
   },
   "source": [
    "=========="
   ]
  }
 ],
 "metadata": {
  "colab": {
   "name": "python-assignment01.ipynb",
   "provenance": []
  },
  "kernelspec": {
   "display_name": "Python 3 (ipykernel)",
   "language": "python",
   "name": "python3"
  },
  "language_info": {
   "codemirror_mode": {
    "name": "ipython",
    "version": 3
   },
   "file_extension": ".py",
   "mimetype": "text/x-python",
   "name": "python",
   "nbconvert_exporter": "python",
   "pygments_lexer": "ipython3",
   "version": "3.12.7"
  }
 },
 "nbformat": 4,
 "nbformat_minor": 4
}
